{
 "cells": [
  {
   "cell_type": "code",
   "execution_count": null,
   "metadata": {
    "collapsed": true,
    "pycharm": {
     "is_executing": true
    }
   },
   "outputs": [],
   "source": [
    "# illustrate the variation of metrics considered w.r.t. DOF (or slope range)\n",
    "import utils\n",
    "\n",
    "p = 'result/curve_data/'\n",
    "utils.plot_performance_curve([p + 'plain.json', p + 'DOE.json'], 'vis/curve')"
   ]
  },
  {
   "cell_type": "code",
   "execution_count": null,
   "outputs": [],
   "source": [
    "# display a certain imaging sample, including:\n",
    "# Sensor Image; GT RGB; Estimated RGB; GT Depth; Estimated Depth\n",
    "import utils\n",
    "\n",
    "utils.inspect_samples(0, 'log/ls/version_1/model-v2.ckpt', 'best', True, 'vis/samples')\n",
    "utils.inspect_samples(0, 'log/ExtendedDOF/version_2/model.ckpt', 'rotsym', True, 'vis/samples')\n",
    "utils.inspect_samples(0, 'log/ExtendedDOF/version_7/model.ckpt', 'zernike', True, 'vis/samples')"
   ],
   "metadata": {
    "collapsed": false
   }
  },
  {
   "cell_type": "code",
   "execution_count": null,
   "outputs": [],
   "source": [
    "import utils\n",
    "\n",
    "utils.plot_metrics_rel('result/ls/v1-model-v2.json', 'img_psnr', 'depth_mae', '')"
   ],
   "metadata": {
    "collapsed": false,
    "pycharm": {
     "is_executing": true
    }
   }
  },
  {
   "cell_type": "code",
   "execution_count": null,
   "outputs": [],
   "source": [
    "# display PSF\n",
    "import utils\n",
    "import model\n",
    "\n",
    "m = model.SnapshotDepth.construct_from_checkpoint(utils.compatible_load('log/target/version_2/model-v4.ckpt')[0])\n",
    "utils.plot_psf(m.camera, 'target', scale_f=lambda x: x ** 0.5)"
   ],
   "metadata": {
    "collapsed": false
   }
  },
  {
   "cell_type": "code",
   "execution_count": null,
   "outputs": [],
   "source": [
    "# display the profile of DOE, either 2d or 3d\n",
    "import utils\n",
    "import model\n",
    "\n",
    "m = model.SnapshotDepth.construct_from_checkpoint(utils.compatible_load('log/target/version_1/model.ckpt')[0])\n",
    "utils.plot_profile(m.camera, 'None', mode='3d')"
   ],
   "metadata": {
    "collapsed": false
   }
  }
 ],
 "metadata": {
  "kernelspec": {
   "display_name": "Python 3",
   "language": "python",
   "name": "python3"
  },
  "language_info": {
   "codemirror_mode": {
    "name": "ipython",
    "version": 2
   },
   "file_extension": ".py",
   "mimetype": "text/x-python",
   "name": "python",
   "nbconvert_exporter": "python",
   "pygments_lexer": "ipython2",
   "version": "2.7.6"
  }
 },
 "nbformat": 4,
 "nbformat_minor": 0
}
