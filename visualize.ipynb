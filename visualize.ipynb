{
 "cells": [
  {
   "cell_type": "code",
   "execution_count": null,
   "metadata": {
    "collapsed": true,
    "pycharm": {
     "is_executing": true
    }
   },
   "outputs": [],
   "source": [
    "import utils\n",
    "\n",
    "p = 'result/curve_data/'\n",
    "utils.plot_performance_curve([p + 'plain.json', p + 'DOE.json'], 'vis/curve')"
   ]
  },
  {
   "cell_type": "code",
   "execution_count": null,
   "outputs": [],
   "source": [
    "import utils\n",
    "\n",
    "utils.inspect_samples(0, 'log/ls/version_1/model-v2.ckpt', 'best', 'vis/samples')\n",
    "utils.inspect_samples(0, 'log/ExtendedDOF/version_2/model.ckpt', 'rotsym', 'vis/samples')\n",
    "utils.inspect_samples(0, 'log/ExtendedDOF/version_7/model.ckpt', 'zernike', 'vis/samples')"
   ],
   "metadata": {
    "collapsed": false
   }
  },
  {
   "cell_type": "code",
   "execution_count": null,
   "outputs": [],
   "source": [
    "import utils\n",
    "\n",
    "utils.plot_metrics_rel('result/ls/v1-model-v2.json', 'img_psnr', 'depth_mae', '')"
   ],
   "metadata": {
    "collapsed": false
   }
  },
  {
   "cell_type": "code",
   "execution_count": null,
   "outputs": [],
   "source": [
    "import utils\n",
    "import model\n",
    "\n",
    "m = model.SnapshotDepth.construct_from_checkpoint(utils.compatible_load('log/target/version_2/model-v4.ckpt')[0])\n",
    "utils.plot_psf(m.camera, 'target', scale_f=lambda x: x ** 0.5)"
   ],
   "metadata": {
    "collapsed": false
   }
  }
 ],
 "metadata": {
  "kernelspec": {
   "display_name": "Python 3",
   "language": "python",
   "name": "python3"
  },
  "language_info": {
   "codemirror_mode": {
    "name": "ipython",
    "version": 2
   },
   "file_extension": ".py",
   "mimetype": "text/x-python",
   "name": "python",
   "nbconvert_exporter": "python",
   "pygments_lexer": "ipython2",
   "version": "2.7.6"
  }
 },
 "nbformat": 4,
 "nbformat_minor": 0
}
